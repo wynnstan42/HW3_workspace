{
 "cells": [
  {
   "cell_type": "markdown",
   "source": [
    "### Predictive Maintenance (Anomaly detection/ Binary classification)\n",
    "- Objective: product quality (pass/fail)\n",
    "- Key Issues: High Dimensionality (# of parameter > # of data point) & Imbalanced\n",
    "- Evaluation metrics: F1-score\n",
    "\n",
    "### Tips\n",
    "- Feature selection or Dimension Reduction approach should be done\n",
    "- Can view the problem as time series or not time series data to process"
   ],
   "metadata": {
    "collapsed": false
   }
  },
  {
   "cell_type": "code",
   "execution_count": 1,
   "metadata": {
    "collapsed": true
   },
   "outputs": [
    {
     "data": {
      "text/plain": "'G:\\\\我的雲端硬碟\\\\人工智慧\\\\HW3\\\\HW3_workspace'"
     },
     "execution_count": 1,
     "metadata": {},
     "output_type": "execute_result"
    }
   ],
   "source": [
    "import pandas as pd\n",
    "import numpy as np\n",
    "import os\n",
    "import warnings\n",
    "warnings.filterwarnings('ignore')\n",
    "os.getcwd()"
   ]
  },
  {
   "cell_type": "code",
   "execution_count": 22,
   "outputs": [
    {
     "name": "stdout",
     "output_type": "stream",
     "text": [
      "(1097, 593)\n"
     ]
    },
    {
     "data": {
      "text/plain": "    Id             Time        0        1          2          3       4  \\\n0  1.0  7/19/2008 11:55  3030.93  2564.00  2187.7333  1411.1265  1.3602   \n1  2.0  7/19/2008 12:32  3095.78  2465.14  2230.4222  1463.6606  0.8294   \n2  3.0  7/19/2008 13:17  2932.61  2559.94  2186.4111  1698.0172  1.5102   \n3  4.0  7/19/2008 14:43  2988.72  2479.90  2199.0333   909.7926  1.3204   \n4  5.0  7/19/2008 15:22  3032.24  2502.87  2233.3667  1326.5200  1.5334   \n\n       5         6       7  ...       581     582     583     584      585  \\\n0  100.0   97.6133  0.1242  ...       NaN  0.5005  0.0118  0.0035   2.3630   \n1  100.0  102.3433  0.1247  ...  208.2045  0.5019  0.0223  0.0055   4.4447   \n2  100.0   95.4878  0.1241  ...   82.8602  0.4958  0.0157  0.0039   3.1745   \n3  100.0  104.2367  0.1217  ...   73.8432  0.4990  0.0103  0.0025   2.0544   \n4  100.0  100.3967  0.1235  ...       NaN  0.4800  0.4766  0.1045  99.3032   \n\n      586     587     588       589  Pass/Fail  \n0     NaN     NaN     NaN       NaN        0.0  \n1  0.0096  0.0201  0.0060  208.2045        0.0  \n2  0.0584  0.0484  0.0148   82.8602        1.0  \n3  0.0202  0.0149  0.0044   73.8432        0.0  \n4  0.0202  0.0149  0.0044   73.8432        0.0  \n\n[5 rows x 593 columns]",
      "text/html": "<div>\n<style scoped>\n    .dataframe tbody tr th:only-of-type {\n        vertical-align: middle;\n    }\n\n    .dataframe tbody tr th {\n        vertical-align: top;\n    }\n\n    .dataframe thead th {\n        text-align: right;\n    }\n</style>\n<table border=\"1\" class=\"dataframe\">\n  <thead>\n    <tr style=\"text-align: right;\">\n      <th></th>\n      <th>Id</th>\n      <th>Time</th>\n      <th>0</th>\n      <th>1</th>\n      <th>2</th>\n      <th>3</th>\n      <th>4</th>\n      <th>5</th>\n      <th>6</th>\n      <th>7</th>\n      <th>...</th>\n      <th>581</th>\n      <th>582</th>\n      <th>583</th>\n      <th>584</th>\n      <th>585</th>\n      <th>586</th>\n      <th>587</th>\n      <th>588</th>\n      <th>589</th>\n      <th>Pass/Fail</th>\n    </tr>\n  </thead>\n  <tbody>\n    <tr>\n      <th>0</th>\n      <td>1.0</td>\n      <td>7/19/2008 11:55</td>\n      <td>3030.93</td>\n      <td>2564.00</td>\n      <td>2187.7333</td>\n      <td>1411.1265</td>\n      <td>1.3602</td>\n      <td>100.0</td>\n      <td>97.6133</td>\n      <td>0.1242</td>\n      <td>...</td>\n      <td>NaN</td>\n      <td>0.5005</td>\n      <td>0.0118</td>\n      <td>0.0035</td>\n      <td>2.3630</td>\n      <td>NaN</td>\n      <td>NaN</td>\n      <td>NaN</td>\n      <td>NaN</td>\n      <td>0.0</td>\n    </tr>\n    <tr>\n      <th>1</th>\n      <td>2.0</td>\n      <td>7/19/2008 12:32</td>\n      <td>3095.78</td>\n      <td>2465.14</td>\n      <td>2230.4222</td>\n      <td>1463.6606</td>\n      <td>0.8294</td>\n      <td>100.0</td>\n      <td>102.3433</td>\n      <td>0.1247</td>\n      <td>...</td>\n      <td>208.2045</td>\n      <td>0.5019</td>\n      <td>0.0223</td>\n      <td>0.0055</td>\n      <td>4.4447</td>\n      <td>0.0096</td>\n      <td>0.0201</td>\n      <td>0.0060</td>\n      <td>208.2045</td>\n      <td>0.0</td>\n    </tr>\n    <tr>\n      <th>2</th>\n      <td>3.0</td>\n      <td>7/19/2008 13:17</td>\n      <td>2932.61</td>\n      <td>2559.94</td>\n      <td>2186.4111</td>\n      <td>1698.0172</td>\n      <td>1.5102</td>\n      <td>100.0</td>\n      <td>95.4878</td>\n      <td>0.1241</td>\n      <td>...</td>\n      <td>82.8602</td>\n      <td>0.4958</td>\n      <td>0.0157</td>\n      <td>0.0039</td>\n      <td>3.1745</td>\n      <td>0.0584</td>\n      <td>0.0484</td>\n      <td>0.0148</td>\n      <td>82.8602</td>\n      <td>1.0</td>\n    </tr>\n    <tr>\n      <th>3</th>\n      <td>4.0</td>\n      <td>7/19/2008 14:43</td>\n      <td>2988.72</td>\n      <td>2479.90</td>\n      <td>2199.0333</td>\n      <td>909.7926</td>\n      <td>1.3204</td>\n      <td>100.0</td>\n      <td>104.2367</td>\n      <td>0.1217</td>\n      <td>...</td>\n      <td>73.8432</td>\n      <td>0.4990</td>\n      <td>0.0103</td>\n      <td>0.0025</td>\n      <td>2.0544</td>\n      <td>0.0202</td>\n      <td>0.0149</td>\n      <td>0.0044</td>\n      <td>73.8432</td>\n      <td>0.0</td>\n    </tr>\n    <tr>\n      <th>4</th>\n      <td>5.0</td>\n      <td>7/19/2008 15:22</td>\n      <td>3032.24</td>\n      <td>2502.87</td>\n      <td>2233.3667</td>\n      <td>1326.5200</td>\n      <td>1.5334</td>\n      <td>100.0</td>\n      <td>100.3967</td>\n      <td>0.1235</td>\n      <td>...</td>\n      <td>NaN</td>\n      <td>0.4800</td>\n      <td>0.4766</td>\n      <td>0.1045</td>\n      <td>99.3032</td>\n      <td>0.0202</td>\n      <td>0.0149</td>\n      <td>0.0044</td>\n      <td>73.8432</td>\n      <td>0.0</td>\n    </tr>\n  </tbody>\n</table>\n<p>5 rows × 593 columns</p>\n</div>"
     },
     "execution_count": 22,
     "metadata": {},
     "output_type": "execute_result"
    }
   ],
   "source": [
    "df = pd.read_csv(r'G:/我的雲端硬碟/人工智慧/HW3/dataset/hw3_train.csv')\n",
    "print(df.shape)\n",
    "df.head()"
   ],
   "metadata": {
    "collapsed": false,
    "pycharm": {
     "name": "#%%\n"
    }
   }
  },
  {
   "cell_type": "code",
   "execution_count": 23,
   "outputs": [],
   "source": [
    "df = df.fillna(df.mean())"
   ],
   "metadata": {
    "collapsed": false,
    "pycharm": {
     "name": "#%%\n"
    }
   }
  },
  {
   "cell_type": "code",
   "execution_count": 24,
   "outputs": [
    {
     "data": {
      "text/plain": "                Id            0            1            2            3  \\\ncount  1097.000000  1097.000000  1097.000000  1097.000000  1097.000000   \nmean    548.500000  3011.834872  2494.378918  2198.948406  1369.930031   \nstd     316.387816    65.765984    83.959375    30.547824   369.843475   \nmin       1.000000  2743.240000  2158.750000  2060.660000   847.797600   \n25%     275.000000  2967.400000  2450.050000  2180.377800  1070.043900   \n50%     548.500000  3010.300000  2497.030000  2199.333400  1288.085700   \n75%     822.000000  3055.660000  2538.430000  2218.055500  1593.122000   \nmax    1096.000000  3266.040000  2846.440000  2315.266700  3715.041700   \n\n                 4       5            6            7            8  ...  \\\ncount  1097.000000  1097.0  1097.000000  1097.000000  1097.000000  ...   \nmean      1.293688   100.0   101.457260     0.122371     1.474345  ...   \nstd       0.378982     0.0     4.505687     0.001933     0.068038  ...   \nmin       0.681500   100.0    83.423300     0.116000     1.191000  ...   \n25%       1.017700   100.0    99.217800     0.121100     1.428100  ...   \n50%       1.308400   100.0   101.864400     0.122200     1.471200  ...   \n75%       1.486900   100.0   104.415600     0.123800     1.525000  ...   \nmax       3.889400   100.0   111.890000     0.128600     1.656400  ...   \n\n               581          582          583          584          585  \\\ncount  1097.000000  1097.000000  1097.000000  1097.000000  1097.000000   \nmean     92.160205     0.500045     0.015547     0.003911     3.116078   \nstd      46.634326     0.003565     0.020312     0.004409     4.234073   \nmin       0.000000     0.477800     0.006500     0.001700     1.284500   \n25%      92.160205     0.497700     0.011500     0.003100     2.298700   \n50%      92.160205     0.500100     0.013700     0.003600     2.744400   \n75%      92.160205     0.502400     0.016400     0.004100     3.284400   \nmax     706.824000     0.509800     0.476600     0.104500    99.303200   \n\n               586          587          588          589    Pass/Fail  \ncount  1097.000000  1097.000000  1097.000000  1097.000000  1097.000000  \nmean      0.021085     0.016266     0.005215    98.598939     0.071168  \nstd       0.011147     0.008043     0.002542    89.167484     0.257105  \nmin      -0.004200     0.004200     0.001500     0.000000     0.000000  \n25%       0.013100     0.010700     0.003400    44.368600     0.000000  \n50%       0.020200     0.014900     0.004600    73.150200     0.000000  \n75%       0.027700     0.020300     0.006400   114.412700     0.000000  \nmax       0.058400     0.060700     0.018800   706.824000     1.000000  \n\n[8 rows x 592 columns]",
      "text/html": "<div>\n<style scoped>\n    .dataframe tbody tr th:only-of-type {\n        vertical-align: middle;\n    }\n\n    .dataframe tbody tr th {\n        vertical-align: top;\n    }\n\n    .dataframe thead th {\n        text-align: right;\n    }\n</style>\n<table border=\"1\" class=\"dataframe\">\n  <thead>\n    <tr style=\"text-align: right;\">\n      <th></th>\n      <th>Id</th>\n      <th>0</th>\n      <th>1</th>\n      <th>2</th>\n      <th>3</th>\n      <th>4</th>\n      <th>5</th>\n      <th>6</th>\n      <th>7</th>\n      <th>8</th>\n      <th>...</th>\n      <th>581</th>\n      <th>582</th>\n      <th>583</th>\n      <th>584</th>\n      <th>585</th>\n      <th>586</th>\n      <th>587</th>\n      <th>588</th>\n      <th>589</th>\n      <th>Pass/Fail</th>\n    </tr>\n  </thead>\n  <tbody>\n    <tr>\n      <th>count</th>\n      <td>1097.000000</td>\n      <td>1097.000000</td>\n      <td>1097.000000</td>\n      <td>1097.000000</td>\n      <td>1097.000000</td>\n      <td>1097.000000</td>\n      <td>1097.0</td>\n      <td>1097.000000</td>\n      <td>1097.000000</td>\n      <td>1097.000000</td>\n      <td>...</td>\n      <td>1097.000000</td>\n      <td>1097.000000</td>\n      <td>1097.000000</td>\n      <td>1097.000000</td>\n      <td>1097.000000</td>\n      <td>1097.000000</td>\n      <td>1097.000000</td>\n      <td>1097.000000</td>\n      <td>1097.000000</td>\n      <td>1097.000000</td>\n    </tr>\n    <tr>\n      <th>mean</th>\n      <td>548.500000</td>\n      <td>3011.834872</td>\n      <td>2494.378918</td>\n      <td>2198.948406</td>\n      <td>1369.930031</td>\n      <td>1.293688</td>\n      <td>100.0</td>\n      <td>101.457260</td>\n      <td>0.122371</td>\n      <td>1.474345</td>\n      <td>...</td>\n      <td>92.160205</td>\n      <td>0.500045</td>\n      <td>0.015547</td>\n      <td>0.003911</td>\n      <td>3.116078</td>\n      <td>0.021085</td>\n      <td>0.016266</td>\n      <td>0.005215</td>\n      <td>98.598939</td>\n      <td>0.071168</td>\n    </tr>\n    <tr>\n      <th>std</th>\n      <td>316.387816</td>\n      <td>65.765984</td>\n      <td>83.959375</td>\n      <td>30.547824</td>\n      <td>369.843475</td>\n      <td>0.378982</td>\n      <td>0.0</td>\n      <td>4.505687</td>\n      <td>0.001933</td>\n      <td>0.068038</td>\n      <td>...</td>\n      <td>46.634326</td>\n      <td>0.003565</td>\n      <td>0.020312</td>\n      <td>0.004409</td>\n      <td>4.234073</td>\n      <td>0.011147</td>\n      <td>0.008043</td>\n      <td>0.002542</td>\n      <td>89.167484</td>\n      <td>0.257105</td>\n    </tr>\n    <tr>\n      <th>min</th>\n      <td>1.000000</td>\n      <td>2743.240000</td>\n      <td>2158.750000</td>\n      <td>2060.660000</td>\n      <td>847.797600</td>\n      <td>0.681500</td>\n      <td>100.0</td>\n      <td>83.423300</td>\n      <td>0.116000</td>\n      <td>1.191000</td>\n      <td>...</td>\n      <td>0.000000</td>\n      <td>0.477800</td>\n      <td>0.006500</td>\n      <td>0.001700</td>\n      <td>1.284500</td>\n      <td>-0.004200</td>\n      <td>0.004200</td>\n      <td>0.001500</td>\n      <td>0.000000</td>\n      <td>0.000000</td>\n    </tr>\n    <tr>\n      <th>25%</th>\n      <td>275.000000</td>\n      <td>2967.400000</td>\n      <td>2450.050000</td>\n      <td>2180.377800</td>\n      <td>1070.043900</td>\n      <td>1.017700</td>\n      <td>100.0</td>\n      <td>99.217800</td>\n      <td>0.121100</td>\n      <td>1.428100</td>\n      <td>...</td>\n      <td>92.160205</td>\n      <td>0.497700</td>\n      <td>0.011500</td>\n      <td>0.003100</td>\n      <td>2.298700</td>\n      <td>0.013100</td>\n      <td>0.010700</td>\n      <td>0.003400</td>\n      <td>44.368600</td>\n      <td>0.000000</td>\n    </tr>\n    <tr>\n      <th>50%</th>\n      <td>548.500000</td>\n      <td>3010.300000</td>\n      <td>2497.030000</td>\n      <td>2199.333400</td>\n      <td>1288.085700</td>\n      <td>1.308400</td>\n      <td>100.0</td>\n      <td>101.864400</td>\n      <td>0.122200</td>\n      <td>1.471200</td>\n      <td>...</td>\n      <td>92.160205</td>\n      <td>0.500100</td>\n      <td>0.013700</td>\n      <td>0.003600</td>\n      <td>2.744400</td>\n      <td>0.020200</td>\n      <td>0.014900</td>\n      <td>0.004600</td>\n      <td>73.150200</td>\n      <td>0.000000</td>\n    </tr>\n    <tr>\n      <th>75%</th>\n      <td>822.000000</td>\n      <td>3055.660000</td>\n      <td>2538.430000</td>\n      <td>2218.055500</td>\n      <td>1593.122000</td>\n      <td>1.486900</td>\n      <td>100.0</td>\n      <td>104.415600</td>\n      <td>0.123800</td>\n      <td>1.525000</td>\n      <td>...</td>\n      <td>92.160205</td>\n      <td>0.502400</td>\n      <td>0.016400</td>\n      <td>0.004100</td>\n      <td>3.284400</td>\n      <td>0.027700</td>\n      <td>0.020300</td>\n      <td>0.006400</td>\n      <td>114.412700</td>\n      <td>0.000000</td>\n    </tr>\n    <tr>\n      <th>max</th>\n      <td>1096.000000</td>\n      <td>3266.040000</td>\n      <td>2846.440000</td>\n      <td>2315.266700</td>\n      <td>3715.041700</td>\n      <td>3.889400</td>\n      <td>100.0</td>\n      <td>111.890000</td>\n      <td>0.128600</td>\n      <td>1.656400</td>\n      <td>...</td>\n      <td>706.824000</td>\n      <td>0.509800</td>\n      <td>0.476600</td>\n      <td>0.104500</td>\n      <td>99.303200</td>\n      <td>0.058400</td>\n      <td>0.060700</td>\n      <td>0.018800</td>\n      <td>706.824000</td>\n      <td>1.000000</td>\n    </tr>\n  </tbody>\n</table>\n<p>8 rows × 592 columns</p>\n</div>"
     },
     "execution_count": 24,
     "metadata": {},
     "output_type": "execute_result"
    }
   ],
   "source": [
    "df.describe()"
   ],
   "metadata": {
    "collapsed": false,
    "pycharm": {
     "name": "#%%\n"
    }
   }
  },
  {
   "cell_type": "markdown",
   "source": [
    "### Also have imbalance data issue\n",
    "- tips: sampling, reweighting, distribution based approach (binary classification)\n",
    "- view the problem as an anomaly detection problem\n",
    "- [Imbalanced data API reference](https://imbalanced-learn.org/stable/references/index.html#api)"
   ],
   "metadata": {
    "collapsed": false
   }
  },
  {
   "cell_type": "code",
   "execution_count": 25,
   "outputs": [
    {
     "name": "stdout",
     "output_type": "stream",
     "text": [
      "Imbalanced Ratio: 13.051\n",
      "Minority: 78\n",
      "Majority: 1018\n"
     ]
    },
    {
     "data": {
      "text/plain": "<Figure size 432x288 with 1 Axes>",
      "image/png": "[encoded data removed]"
     },
     "metadata": {
      "needs_background": "light"
     },
     "output_type": "display_data"
    }
   ],
   "source": [
    "# Imbalanced Data\n",
    "import seaborn as sns\n",
    "sns.histplot(df['Pass/Fail'], bins=2)\n",
    "\n",
    "#Check the imbalanced ratio\n",
    "print('Imbalanced Ratio:', round((len(df[df['Pass/Fail'] == 0]) / len(df[df['Pass/Fail'] == 1])),3))\n",
    "print('Minority:',len(df[df['Pass/Fail'] == 1]))\n",
    "print('Majority:',len(df[df['Pass/Fail'] == 0]))"
   ],
   "metadata": {
    "collapsed": false,
    "pycharm": {
     "name": "#%%\n"
    }
   }
  },
  {
   "cell_type": "markdown",
   "source": [
    "### Use all features"
   ],
   "metadata": {
    "collapsed": false
   }
  },
  {
   "cell_type": "code",
   "execution_count": 26,
   "outputs": [],
   "source": [
    "from sklearn.preprocessing import LabelEncoder\n",
    "from sklearn.preprocessing import MinMaxScaler\n",
    "le = LabelEncoder()\n",
    "df['Time'] = le.fit_transform(df['Time'])\n",
    "df['Pass/Fail'] = le.fit_transform(df['Pass/Fail'])\n",
    "\n",
    "X = df[df.columns[0:-1]]\n",
    "X = MinMaxScaler().fit_transform(X)\n",
    "y = df[df.columns[-1]]"
   ],
   "metadata": {
    "collapsed": false,
    "pycharm": {
     "name": "#%%\n"
    }
   }
  },
  {
   "cell_type": "code",
   "execution_count": 28,
   "outputs": [],
   "source": [
    "from xgboost import XGBClassifier\n",
    "from sklearn.metrics import roc_auc_score as AUC\n",
    "model = XGBClassifier()\n",
    "model.fit(X,y)\n",
    "\n",
    "df_test = pd.read_csv(r'G:/我的雲端硬碟/人工智慧/HW3/dataset/hw3_test.csv')\n",
    "df_test = df_test.fillna(df_test.mean())\n",
    "df_test['Time'] = le.fit_transform(df_test['Time'])\n",
    "\n",
    "X_test = df_test\n",
    "X_test = MinMaxScaler().fit_transform(X_test)\n",
    "y_pred = model.predict(X_test)\n",
    "\n",
    "# df_true = pd.read_csv(r'G:/我的雲端硬碟/人工智慧/HW3/dataset/hw3_solution.csv')\n",
    "# y_true = df_true['Pass/Fail']\n",
    "#\n",
    "# AUC(y_true, y_pred[:,1])"
   ],
   "metadata": {
    "collapsed": false,
    "pycharm": {
     "name": "#%%\n"
    }
   }
  },
  {
   "cell_type": "code",
   "execution_count": 29,
   "outputs": [
    {
     "data": {
      "text/plain": "array([0, 0, 0, 0, 2, 0, 0, 2, 0, 0, 0, 2, 0, 2, 0, 0, 0, 2, 0, 0, 0, 2,\n       0, 0, 0, 0, 0, 0, 0, 0, 0, 0, 0, 0, 0, 0, 2, 0, 0, 0, 0, 0, 2, 2,\n       0, 0, 0, 0, 0, 0, 0, 2, 0, 0, 0, 0, 0, 0, 0, 0, 0, 0, 0, 0, 0, 0,\n       2, 0, 0, 0, 2, 2, 0, 0, 0, 2, 0, 2, 0, 0, 0, 0, 2, 2, 0, 0, 0, 0,\n       0, 0, 0, 2, 0, 0, 0, 2, 0, 0, 0, 0, 0, 0, 2, 0, 0, 0, 0, 0, 0, 0,\n       0, 2, 2, 0, 0, 0, 0, 0, 0, 0, 0, 0, 0, 0, 0, 2, 0, 0, 2, 0, 0, 0,\n       0, 0, 2, 0, 0, 0, 0, 0, 0, 2, 0, 0, 0, 2, 0, 0, 0, 0, 0, 0, 2, 2,\n       0, 2, 2, 0, 2, 0, 0, 0, 0, 0, 0, 2, 2, 2, 0, 0, 0, 0, 0, 0, 2, 0,\n       0, 0, 0, 0, 0, 0, 0, 0, 0, 0, 0, 0, 0, 0, 0, 0, 0, 0, 0, 0, 0, 0,\n       0, 0, 0, 0, 0, 0, 0, 0, 0, 0, 2, 0, 2, 2, 0, 0, 0, 0, 0, 0, 0, 0,\n       2, 0, 0, 0, 0, 0, 2, 2, 2, 0, 2, 0, 2, 0, 2, 0, 0, 0, 0, 2, 0, 2,\n       2, 0, 0, 0, 2, 0, 2, 0, 2, 0, 0, 0, 0, 0, 0, 0, 0, 0, 0, 0, 0, 0,\n       0, 0, 2, 0, 0, 0, 0, 0, 0, 0, 2, 0, 0, 0, 0, 0, 0, 0, 2, 0, 0, 0,\n       0, 0, 0, 2, 0, 0, 0, 0, 0, 0, 0, 0, 0, 0, 0, 2, 0, 0, 0, 2, 0, 2,\n       2, 0, 0, 0, 2, 2, 2, 0, 2, 0, 0, 0, 0, 0, 0, 2, 0, 0, 0, 0, 2, 0,\n       0, 0, 0, 0, 0, 0, 0, 0, 0, 2, 0, 0, 0, 0, 0, 0, 0, 0, 0, 0, 0, 0,\n       0, 0, 0, 0, 0, 0, 0, 0, 0, 0, 2, 0, 0, 0, 0, 0, 2, 0, 0, 2, 0, 2,\n       2, 0, 0, 0, 2, 0, 0, 0, 0, 0, 0, 0, 0, 0, 2, 0, 0, 2, 0, 0, 0, 0,\n       0, 0, 2, 0, 2, 2, 0, 0, 2, 2, 0, 2, 0, 2, 2, 2, 2, 0, 0, 0, 0, 2,\n       0, 0, 0, 0, 0, 0, 0, 0, 2, 0, 0, 0, 0, 2, 2, 0, 0, 0, 2, 0, 0, 0,\n       0, 0, 0, 0, 0, 0, 2, 0, 2, 0, 0, 2, 0, 0, 2, 0, 2, 2, 2, 2, 0, 0,\n       2, 0, 0, 0, 0, 2, 2, 2, 0], dtype=int64)"
     },
     "execution_count": 29,
     "metadata": {},
     "output_type": "execute_result"
    }
   ],
   "source": [
    "y_pred"
   ],
   "metadata": {
    "collapsed": false,
    "pycharm": {
     "name": "#%%\n"
    }
   }
  },
  {
   "cell_type": "code",
   "execution_count": 32,
   "outputs": [
    {
     "data": {
      "text/plain": "     0\n0    0\n1    0\n2    0\n3    0\n4    2\n..  ..\n466  0\n467  2\n468  2\n469  2\n470  0\n\n[471 rows x 1 columns]",
      "text/html": "<div>\n<style scoped>\n    .dataframe tbody tr th:only-of-type {\n        vertical-align: middle;\n    }\n\n    .dataframe tbody tr th {\n        vertical-align: top;\n    }\n\n    .dataframe thead th {\n        text-align: right;\n    }\n</style>\n<table border=\"1\" class=\"dataframe\">\n  <thead>\n    <tr style=\"text-align: right;\">\n      <th></th>\n      <th>0</th>\n    </tr>\n  </thead>\n  <tbody>\n    <tr>\n      <th>0</th>\n      <td>0</td>\n    </tr>\n    <tr>\n      <th>1</th>\n      <td>0</td>\n    </tr>\n    <tr>\n      <th>2</th>\n      <td>0</td>\n    </tr>\n    <tr>\n      <th>3</th>\n      <td>0</td>\n    </tr>\n    <tr>\n      <th>4</th>\n      <td>2</td>\n    </tr>\n    <tr>\n      <th>...</th>\n      <td>...</td>\n    </tr>\n    <tr>\n      <th>466</th>\n      <td>0</td>\n    </tr>\n    <tr>\n      <th>467</th>\n      <td>2</td>\n    </tr>\n    <tr>\n      <th>468</th>\n      <td>2</td>\n    </tr>\n    <tr>\n      <th>469</th>\n      <td>2</td>\n    </tr>\n    <tr>\n      <th>470</th>\n      <td>0</td>\n    </tr>\n  </tbody>\n</table>\n<p>471 rows × 1 columns</p>\n</div>"
     },
     "execution_count": 32,
     "metadata": {},
     "output_type": "execute_result"
    }
   ],
   "source": [
    "y_pred_df = pd.DataFrame(y_pred)\n",
    "y_pred_df"
   ],
   "metadata": {
    "collapsed": false,
    "pycharm": {
     "name": "#%%\n"
    }
   }
  },
  {
   "cell_type": "code",
   "execution_count": 33,
   "outputs": [
    {
     "data": {
      "text/plain": "      Pass/Fail\n1098          0\n1099          0\n1100          0\n1101          0\n1102          2",
      "text/html": "<div>\n<style scoped>\n    .dataframe tbody tr th:only-of-type {\n        vertical-align: middle;\n    }\n\n    .dataframe tbody tr th {\n        vertical-align: top;\n    }\n\n    .dataframe thead th {\n        text-align: right;\n    }\n</style>\n<table border=\"1\" class=\"dataframe\">\n  <thead>\n    <tr style=\"text-align: right;\">\n      <th></th>\n      <th>Pass/Fail</th>\n    </tr>\n  </thead>\n  <tbody>\n    <tr>\n      <th>1098</th>\n      <td>0</td>\n    </tr>\n    <tr>\n      <th>1099</th>\n      <td>0</td>\n    </tr>\n    <tr>\n      <th>1100</th>\n      <td>0</td>\n    </tr>\n    <tr>\n      <th>1101</th>\n      <td>0</td>\n    </tr>\n    <tr>\n      <th>1102</th>\n      <td>2</td>\n    </tr>\n  </tbody>\n</table>\n</div>"
     },
     "execution_count": 33,
     "metadata": {},
     "output_type": "execute_result"
    }
   ],
   "source": [
    "pred_rlt = pd.DataFrame(y_pred, columns=['Pass/Fail'])\n",
    "pred_rlt.index+=1098\n",
    "pred_rlt.head()"
   ],
   "metadata": {
    "collapsed": false,
    "pycharm": {
     "name": "#%%\n"
    }
   }
  },
  {
   "cell_type": "code",
   "execution_count": 34,
   "outputs": [],
   "source": [
    "pred_rlt.to_csv('mySubmission_use_all_features.csv', index_label='Id')"
   ],
   "metadata": {
    "collapsed": false,
    "pycharm": {
     "name": "#%%\n"
    }
   }
  },
  {
   "cell_type": "markdown",
   "source": [
    "### Feature selection approach\n",
    "- filter\n",
    "- wrapper\n",
    "- embedding\n",
    "- hybrid"
   ],
   "metadata": {
    "collapsed": false
   }
  },
  {
   "cell_type": "code",
   "execution_count": null,
   "outputs": [],
   "source": [
    "# Feature Selection\n",
    "from matplotlib import pyplot as plt\n",
    "sorted_idx = model.feature_importances_.argsort()\n",
    "plt.barh(df.columns[sorted_idx], model.feature_importances_[sorted_idx])\n",
    "plt.xlabel(\"Xgboost Feature Importance\")"
   ],
   "metadata": {
    "collapsed": false,
    "pycharm": {
     "name": "#%%\n"
    }
   }
  },
  {
   "cell_type": "markdown",
   "source": [
    "### Model Train"
   ],
   "metadata": {
    "collapsed": false
   }
  },
  {
   "cell_type": "code",
   "execution_count": null,
   "outputs": [],
   "source": [
    "df = pd.read_csv(r'G:/我的雲端硬碟/人工智慧/HW3/dataset/hw3_train.csv')\n",
    "df = df.fillna(df.mean())\n",
    "le = LabelEncoder()\n",
    "df['Time'] = le.fit_transform(df['Time'])\n",
    "df['Pass/Fail'] = le.fit_transform(df['Pass/Fail'])\n",
    "\n",
    "# feature selection\n",
    "features = df.columns[sorted_idx[ :320]]\n",
    "X = df[features]\n",
    "X = MinMaxScaler().fit_transform(X)\n",
    "y = df[df.columns[-1]]\n",
    "\n",
    "model = XGBClassifier()\n",
    "model.fit(X,y)\n",
    "\n",
    "# remember to evaluate your model performance"
   ],
   "metadata": {
    "collapsed": false,
    "pycharm": {
     "name": "#%%\n"
    }
   }
  },
  {
   "cell_type": "markdown",
   "source": [
    "### Prediction"
   ],
   "metadata": {
    "collapsed": false
   }
  },
  {
   "cell_type": "code",
   "execution_count": null,
   "outputs": [],
   "source": [
    "df_test = pd.read_csv(r'G:/我的雲端硬碟/人工智慧/HW3/dataset/hw3_test.csv')\n",
    "# same procedure done in training step\n",
    "df_test = df_test.fillna(df_test.mean())\n",
    "df_test['Time'] = le.fit_transform(df_test['Time'])\n",
    "\n",
    "X_test = df_test[features]\n",
    "X_test = MinMaxScaler().fit_transform(X_test)\n",
    "y_pred = model.predict(X_test)"
   ],
   "metadata": {
    "collapsed": false,
    "pycharm": {
     "name": "#%%\n"
    }
   }
  },
  {
   "cell_type": "code",
   "execution_count": null,
   "outputs": [],
   "source": [
    "y_pred"
   ],
   "metadata": {
    "collapsed": false,
    "pycharm": {
     "name": "#%%\n"
    }
   }
  },
  {
   "cell_type": "code",
   "execution_count": null,
   "outputs": [],
   "source": [
    "pred_rlt = pd.DataFrame(y_pred, columns=['Pass/Fail'])\n",
    "pred_rlt.index+=1098\n",
    "pred_rlt.head()"
   ],
   "metadata": {
    "collapsed": false,
    "pycharm": {
     "name": "#%%\n"
    }
   }
  },
  {
   "cell_type": "markdown",
   "source": [
    "### Output result and submit onto kaggle"
   ],
   "metadata": {
    "collapsed": false
   }
  },
  {
   "cell_type": "code",
   "execution_count": null,
   "outputs": [],
   "source": [
    "pred_rlt.to_csv('mySubmission_feature_selection.csv', index_label='Id')"
   ],
   "metadata": {
    "collapsed": false,
    "pycharm": {
     "name": "#%%\n"
    }
   }
  },
  {
   "cell_type": "markdown",
   "source": [
    "### Anomaly detection approach ```roc_auc_curve``` measurement\n",
    "- used to determine the ```best anomaly threshold```\n",
    "    1. : get the anomaly score for each data point\n",
    "    2. : set up the anomaly_threshold and get the confusion matrix\n",
    "    3. : use confusion matrix to get false positive and true negative\n",
    "    4. : plot AUC_ROC curve to determine anomaly_threshold\n",
    "- ```f1 score``` procedure is similar to ```roc_auc_curve```"
   ],
   "metadata": {
    "collapsed": false
   }
  },
  {
   "cell_type": "code",
   "execution_count": null,
   "outputs": [],
   "source": [
    "from sklearn.metrics import confusion_matrix, auc\n",
    "import numpy as np\n",
    "import matplotlib.pyplot as plt\n",
    "\n",
    "def get_auc_score(y_true, y_score, num_eval=100):\n",
    "    '''\n",
    "    Remember to customize your own threshold if needed\n",
    "    y_score {ndarray} anomaly score (score is not like probability, not necessary between 0 and 1)\n",
    "    '''\n",
    "    def get_y_pred(y_score, thres=None):\n",
    "        y_pred = []\n",
    "        for score in y_score:\n",
    "            if score >= thres:\n",
    "                y_pred.append(1) # Fail\n",
    "            else:\n",
    "                y_pred.append(0) # Pass\n",
    "        return y_pred\n",
    "\n",
    "    lower_bound = min(y_score)\n",
    "    upper_bound = max(y_score)\n",
    "    step_size = (upper_bound - lower_bound) / num_eval\n",
    "\n",
    "    tpr_list = []\n",
    "    fpr_list = []\n",
    "    best_tpr_fpr = 0\n",
    "    best_thres = 0\n",
    "\n",
    "    for step in range(num_eval):\n",
    "        thres = lower_bound + step_size * step\n",
    "\n",
    "        y_pred = get_y_pred(y_score, thres)\n",
    "\n",
    "        tp, fn, fp, tn = confusion_matrix(y_true, y_pred).ravel()\n",
    "        tpr = tp / (tp + fn) # true positive rate\n",
    "        fpr = fp / (tn + fp) # false positive rate\n",
    "\n",
    "        if (tpr-fpr) > best_tpr_fpr:\n",
    "            best_thres = thres\n",
    "            best_tpr_fpr = tpr - fpr\n",
    "\n",
    "        tpr_list.append(tpr)\n",
    "        fpr_list.append(fpr)\n",
    "\n",
    "    return auc(fpr_list, tpr_list), fpr_list, tpr_list, best_thres\n",
    "\n",
    "\n",
    "def plot_roc_curve(auc, fpr_list, tpr_list):\n",
    "    lw = 2\n",
    "    plt.plot(\n",
    "        fpr_list,\n",
    "        tpr_list,\n",
    "        color=\"darkorange\",\n",
    "        lw=lw,\n",
    "        label=\"ROC curve (area = %0.2f)\" % auc,\n",
    "    )\n",
    "    plt.plot([0, 1], [0, 1], color=\"navy\", lw=lw, linestyle=\"--\")\n",
    "    plt.xlim([0.0, 1.0])\n",
    "    plt.ylim([0.0, 1.05])\n",
    "    plt.xlabel(\"False Positive Rate\")\n",
    "    plt.ylabel(\"True Positive Rate\")\n",
    "    plt.title(\"Receiver operating characteristic example\")\n",
    "    plt.legend(loc=\"lower right\")\n",
    "    plt.show()\n",
    "\n",
    "y_true = np.array([0, 0, 0, 1, 1, 0, 0, 1])\n",
    "y_pred = np.array([0.1, 1.4, 1.6, 1.3, 3.2, 2.6, 1.8, 1.5])\n",
    "auc, fpr_list, tpr_list, best_thres = get_auc_score(y_true, y_pred)\n",
    "print('auc: {}'.format(auc))\n",
    "print('best_threshold: {}'.format(best_thres))\n",
    "plot_roc_curve(auc, fpr_list, tpr_list)"
   ],
   "metadata": {
    "collapsed": false,
    "pycharm": {
     "name": "#%%\n"
    }
   }
  },
  {
   "cell_type": "code",
   "execution_count": null,
   "outputs": [],
   "source": [
    "from sklearn.metrics import f1_score\n",
    "\n",
    "def get_f1_score(y_true, y_score, num_eval=100):\n",
    "    '''\n",
    "    Remember to customize your own threshold if needed\n",
    "    y_score {ndarray} anomaly score (score is not like probability, not necessary between 0 and 1)\n",
    "    '''\n",
    "    def get_y_pred(y_score, thres=None):\n",
    "        y_pred = []\n",
    "        for score in y_score:\n",
    "            if score >= thres:\n",
    "                y_pred.append(1) # Fail\n",
    "            else:\n",
    "                y_pred.append(0) # Pass\n",
    "        return y_pred\n",
    "\n",
    "    lower_bound = min(y_score)\n",
    "    upper_bound = max(y_score)\n",
    "    step_size = (upper_bound - lower_bound) / num_eval\n",
    "\n",
    "    best_score = 0\n",
    "    best_thres = 0\n",
    "\n",
    "    for step in range(num_eval):\n",
    "        thres = lower_bound + step_size * step\n",
    "\n",
    "        y_pred = get_y_pred(y_score, thres)\n",
    "\n",
    "        score = f1_score(y_true, y_pred)\n",
    "\n",
    "        if score > best_score:\n",
    "            best_thres = thres\n",
    "            best_score = score\n",
    "\n",
    "        return best_score, best_thres\n",
    "\n",
    "y_true = np.array([0, 0, 0, 1, 1, 0, 0, 1])\n",
    "y_pred = np.array([0.1, 1.4, 1.6, 1.3, 3.2, 2.6, 1.8, 1.5])\n",
    "best_score, best_thres = get_f1_score(y_true, y_pred)\n",
    "print(best_score)\n",
    "print(best_thres)"
   ],
   "metadata": {
    "collapsed": false,
    "pycharm": {
     "name": "#%%\n"
    }
   }
  }
 ],
 "metadata": {
  "kernelspec": {
   "display_name": "Python 3",
   "language": "python",
   "name": "python3"
  },
  "language_info": {
   "codemirror_mode": {
    "name": "ipython",
    "version": 2
   },
   "file_extension": ".py",
   "mimetype": "text/x-python",
   "name": "python",
   "nbconvert_exporter": "python",
   "pygments_lexer": "ipython2",
   "version": "2.7.6"
  }
 },
 "nbformat": 4,
 "nbformat_minor": 0
}